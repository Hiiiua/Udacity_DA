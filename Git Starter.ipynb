{
 "cells": [
  {
   "cell_type": "markdown",
   "metadata": {},
   "source": [
    "# 1基本四个模块\n",
    ">Work space -->index -->repository -->Remote\n"
   ]
  },
  {
   "cell_type": "markdown",
   "metadata": {},
   "source": [
    "# 2初次使用\n",
    "### 初次配置\n",
    ">`git config --global user.name \"John Doe\"`<br/>\n",
    ">`git config --global user.email jd@example.com`\n",
    "\n",
    "### 创建本地仓库\n",
    ">`cd path`进入需要的路径 \n",
    "<br/>`git init`把当前路径变为可操作的仓库\n",
    "\n",
    "### 连接GitHub仓库\n",
    ">* `git remote add origin https://github.com/username/repository.git`\n",
    "<br/>[报错 fatal: remote origin already exists](#5奇奇怪怪的报错)\n",
    "\n",
    "### 第一次push文件\n",
    ">`git push -u origin master`\n",
    "\n",
    "### 基本指令\n",
    ">* `git status` 查看当前状态\n",
    "* `git ls-files` 查看被track的文件"
   ]
  },
  {
   "cell_type": "markdown",
   "metadata": {},
   "source": [
    "# 3基本操作\n",
    ">* 从本地传到暂存 `git add` \n",
    ">* 从暂存保存到本地仓库 `git commit -m \"\"`\n",
    ">* 从本地仓库推到远程仓库`git push origin master`\n",
    "<br/>[报错failed to push some refs to...](#5奇奇怪怪的报错) "
   ]
  },
  {
   "cell_type": "markdown",
   "metadata": {},
   "source": [
    "# 4关于不想添加的文件\n",
    "### 创造.gitignore文件\n",
    ">* *gitbash*:cd到相应目录 `touch.gitignore`\n",
    "\n",
    "### .gitignore列表方式\n",
    ">* 写入文件，批量使用**.py**的方式写入\n",
    ">* **.gitignore**本身也可以写入\n",
    "\n",
    "### add并push即可\n",
    ">* `git add .gitignore` \n",
    "* `git commit -m \".gitignore created\"` \n",
    "* `git push origin master`\n",
    "\n",
    "### Untrack的办法\n",
    ">* `git rm -r -n --cached <file>`查看并确认文件\n",
    "* `git rm -r --cached <file>`删除\n",
    "* `git push origin master`"
   ]
  },
  {
   "cell_type": "markdown",
   "metadata": {},
   "source": [
    "# 5奇奇怪怪的报错\n",
    ">* *git bash* 报 **cd: to many arguments** 路径变量有空格，用引号框起来\n",
    "* **fatal: remote origin already exists** `git remote rm origin`\n",
    "* **failed to push som refs to...*git pull origin master* `git pull origin master` \n"
   ]
  },
  {
   "cell_type": "markdown",
   "metadata": {},
   "source": [
    "# 6GitHub的ssh key\n",
    "\n",
    "### ssh key需要.ssh文件夹\n",
    ">* `cd ~/.ssh/`\n",
    "* 如果**No such file or directory** <br/>`mkdir ~/.ssh`\n",
    "* 配置全局name和email [参见 初次配置](#初次配置)\n",
    "* 生成key<br/>\n",
    "`ssh-keygen -t rsa -C \"jd@example.com\"`\n",
    "* 打开`id_rsa.pub`并复制\n",
    "* 粘贴到GitHub中"
   ]
  }
 ],
 "metadata": {
  "kernelspec": {
   "display_name": "Python 3",
   "language": "python",
   "name": "python3"
  },
  "language_info": {
   "codemirror_mode": {
    "name": "ipython",
    "version": 3
   },
   "file_extension": ".py",
   "mimetype": "text/x-python",
   "name": "python",
   "nbconvert_exporter": "python",
   "pygments_lexer": "ipython3",
   "version": "3.7.4"
  }
 },
 "nbformat": 4,
 "nbformat_minor": 2
}
