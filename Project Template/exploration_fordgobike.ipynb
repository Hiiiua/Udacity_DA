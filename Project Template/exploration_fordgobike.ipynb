{
 "cells": [
  {
   "cell_type": "markdown",
   "metadata": {
    "slideshow": {
     "slide_type": "slide"
    }
   },
   "source": [
    "# Fordbikego Data Exploration \n",
    "## by Muxin Hua\n",
    "\n",
    "## Preliminary Wrangling\n",
    "\n",
    "> This document explores satasets of a bik-shering system for 1,863,721 entries of records. "
   ]
  },
  {
   "cell_type": "code",
   "execution_count": 41,
   "metadata": {
    "slideshow": {
     "slide_type": "skip"
    }
   },
   "outputs": [],
   "source": [
    "# import all packages and set plots to be embedded inline\n",
    "import numpy as np\n",
    "import pandas as pd\n",
    "import matplotlib.pyplot as plt\n",
    "import seaborn as sb\n",
    "\n",
    "%matplotlib inline"
   ]
  },
  {
   "cell_type": "code",
   "execution_count": 42,
   "metadata": {
    "slideshow": {
     "slide_type": "skip"
    }
   },
   "outputs": [],
   "source": [
    "fordgobike =  pd.read_csv(r'C:\\Users\\HUA\\Desktop\\Mini program\\Project5\\proj\\2017-fordgobike-tripdata.csv\\2017-fordgobike-tripdata.csv')"
   ]
  },
  {
   "cell_type": "code",
   "execution_count": 43,
   "metadata": {
    "slideshow": {
     "slide_type": "skip"
    }
   },
   "outputs": [
    {
     "data": {
      "text/plain": [
       "(519700, 13)"
      ]
     },
     "execution_count": 43,
     "metadata": {},
     "output_type": "execute_result"
    }
   ],
   "source": [
    "fordgobike.shape"
   ]
  },
  {
   "cell_type": "code",
   "execution_count": 44,
   "metadata": {
    "scrolled": true,
    "slideshow": {
     "slide_type": "skip"
    }
   },
   "outputs": [
    {
     "data": {
      "text/plain": [
       "duration_sec                 int64\n",
       "start_time                  object\n",
       "end_time                    object\n",
       "start_station_id             int64\n",
       "start_station_name          object\n",
       "start_station_latitude     float64\n",
       "start_station_longitude    float64\n",
       "end_station_id               int64\n",
       "end_station_name            object\n",
       "end_station_latitude       float64\n",
       "end_station_longitude      float64\n",
       "bike_id                      int64\n",
       "user_type                   object\n",
       "dtype: object"
      ]
     },
     "execution_count": 44,
     "metadata": {},
     "output_type": "execute_result"
    }
   ],
   "source": [
    "fordgobike.dtypes"
   ]
  },
  {
   "cell_type": "code",
   "execution_count": 45,
   "metadata": {
    "slideshow": {
     "slide_type": "skip"
    }
   },
   "outputs": [],
   "source": [
    "fordgobike['date'] = [i[0] for i in fordgobike['start_time'].str.split(' ')]\n",
    "fordgobike['hour'] = [i[1].split(':')[0] for i in fordgobike['start_time'].str.split(' ')]"
   ]
  },
  {
   "cell_type": "code",
   "execution_count": 46,
   "metadata": {},
   "outputs": [
    {
     "data": {
      "text/html": [
       "<div>\n",
       "<style scoped>\n",
       "    .dataframe tbody tr th:only-of-type {\n",
       "        vertical-align: middle;\n",
       "    }\n",
       "\n",
       "    .dataframe tbody tr th {\n",
       "        vertical-align: top;\n",
       "    }\n",
       "\n",
       "    .dataframe thead th {\n",
       "        text-align: right;\n",
       "    }\n",
       "</style>\n",
       "<table border=\"1\" class=\"dataframe\">\n",
       "  <thead>\n",
       "    <tr style=\"text-align: right;\">\n",
       "      <th></th>\n",
       "      <th>duration_sec</th>\n",
       "      <th>start_time</th>\n",
       "      <th>end_time</th>\n",
       "      <th>start_station_id</th>\n",
       "      <th>start_station_name</th>\n",
       "      <th>start_station_latitude</th>\n",
       "      <th>start_station_longitude</th>\n",
       "      <th>end_station_id</th>\n",
       "      <th>end_station_name</th>\n",
       "      <th>end_station_latitude</th>\n",
       "      <th>end_station_longitude</th>\n",
       "      <th>bike_id</th>\n",
       "      <th>user_type</th>\n",
       "      <th>date</th>\n",
       "      <th>hour</th>\n",
       "    </tr>\n",
       "  </thead>\n",
       "  <tbody>\n",
       "    <tr>\n",
       "      <td>0</td>\n",
       "      <td>80110</td>\n",
       "      <td>2017-12-31 16:57:39.6540</td>\n",
       "      <td>2018-01-01 15:12:50.2450</td>\n",
       "      <td>74</td>\n",
       "      <td>Laguna St at Hayes St</td>\n",
       "      <td>37.776435</td>\n",
       "      <td>-122.426244</td>\n",
       "      <td>43</td>\n",
       "      <td>San Francisco Public Library (Grove St at Hyde...</td>\n",
       "      <td>37.778768</td>\n",
       "      <td>-122.415929</td>\n",
       "      <td>96</td>\n",
       "      <td>Customer</td>\n",
       "      <td>2017-12-31</td>\n",
       "      <td>16</td>\n",
       "    </tr>\n",
       "    <tr>\n",
       "      <td>1</td>\n",
       "      <td>78800</td>\n",
       "      <td>2017-12-31 15:56:34.8420</td>\n",
       "      <td>2018-01-01 13:49:55.6170</td>\n",
       "      <td>284</td>\n",
       "      <td>Yerba Buena Center for the Arts (Howard St at ...</td>\n",
       "      <td>37.784872</td>\n",
       "      <td>-122.400876</td>\n",
       "      <td>96</td>\n",
       "      <td>Dolores St at 15th St</td>\n",
       "      <td>37.766210</td>\n",
       "      <td>-122.426614</td>\n",
       "      <td>88</td>\n",
       "      <td>Customer</td>\n",
       "      <td>2017-12-31</td>\n",
       "      <td>15</td>\n",
       "    </tr>\n",
       "    <tr>\n",
       "      <td>2</td>\n",
       "      <td>45768</td>\n",
       "      <td>2017-12-31 22:45:48.4110</td>\n",
       "      <td>2018-01-01 11:28:36.8830</td>\n",
       "      <td>245</td>\n",
       "      <td>Downtown Berkeley BART</td>\n",
       "      <td>37.870348</td>\n",
       "      <td>-122.267764</td>\n",
       "      <td>245</td>\n",
       "      <td>Downtown Berkeley BART</td>\n",
       "      <td>37.870348</td>\n",
       "      <td>-122.267764</td>\n",
       "      <td>1094</td>\n",
       "      <td>Customer</td>\n",
       "      <td>2017-12-31</td>\n",
       "      <td>22</td>\n",
       "    </tr>\n",
       "    <tr>\n",
       "      <td>3</td>\n",
       "      <td>62172</td>\n",
       "      <td>2017-12-31 17:31:10.6360</td>\n",
       "      <td>2018-01-01 10:47:23.5310</td>\n",
       "      <td>60</td>\n",
       "      <td>8th St at Ringold St</td>\n",
       "      <td>37.774520</td>\n",
       "      <td>-122.409449</td>\n",
       "      <td>5</td>\n",
       "      <td>Powell St BART Station (Market St at 5th St)</td>\n",
       "      <td>37.783899</td>\n",
       "      <td>-122.408445</td>\n",
       "      <td>2831</td>\n",
       "      <td>Customer</td>\n",
       "      <td>2017-12-31</td>\n",
       "      <td>17</td>\n",
       "    </tr>\n",
       "    <tr>\n",
       "      <td>4</td>\n",
       "      <td>43603</td>\n",
       "      <td>2017-12-31 14:23:14.0010</td>\n",
       "      <td>2018-01-01 02:29:57.5710</td>\n",
       "      <td>239</td>\n",
       "      <td>Bancroft Way at Telegraph Ave</td>\n",
       "      <td>37.868813</td>\n",
       "      <td>-122.258764</td>\n",
       "      <td>247</td>\n",
       "      <td>Fulton St at Bancroft Way</td>\n",
       "      <td>37.867789</td>\n",
       "      <td>-122.265896</td>\n",
       "      <td>3167</td>\n",
       "      <td>Subscriber</td>\n",
       "      <td>2017-12-31</td>\n",
       "      <td>14</td>\n",
       "    </tr>\n",
       "  </tbody>\n",
       "</table>\n",
       "</div>"
      ],
      "text/plain": [
       "   duration_sec                start_time                  end_time  \\\n",
       "0         80110  2017-12-31 16:57:39.6540  2018-01-01 15:12:50.2450   \n",
       "1         78800  2017-12-31 15:56:34.8420  2018-01-01 13:49:55.6170   \n",
       "2         45768  2017-12-31 22:45:48.4110  2018-01-01 11:28:36.8830   \n",
       "3         62172  2017-12-31 17:31:10.6360  2018-01-01 10:47:23.5310   \n",
       "4         43603  2017-12-31 14:23:14.0010  2018-01-01 02:29:57.5710   \n",
       "\n",
       "   start_station_id                                 start_station_name  \\\n",
       "0                74                              Laguna St at Hayes St   \n",
       "1               284  Yerba Buena Center for the Arts (Howard St at ...   \n",
       "2               245                             Downtown Berkeley BART   \n",
       "3                60                               8th St at Ringold St   \n",
       "4               239                      Bancroft Way at Telegraph Ave   \n",
       "\n",
       "   start_station_latitude  start_station_longitude  end_station_id  \\\n",
       "0               37.776435              -122.426244              43   \n",
       "1               37.784872              -122.400876              96   \n",
       "2               37.870348              -122.267764             245   \n",
       "3               37.774520              -122.409449               5   \n",
       "4               37.868813              -122.258764             247   \n",
       "\n",
       "                                    end_station_name  end_station_latitude  \\\n",
       "0  San Francisco Public Library (Grove St at Hyde...             37.778768   \n",
       "1                              Dolores St at 15th St             37.766210   \n",
       "2                             Downtown Berkeley BART             37.870348   \n",
       "3       Powell St BART Station (Market St at 5th St)             37.783899   \n",
       "4                          Fulton St at Bancroft Way             37.867789   \n",
       "\n",
       "   end_station_longitude  bike_id   user_type        date hour  \n",
       "0            -122.415929       96    Customer  2017-12-31   16  \n",
       "1            -122.426614       88    Customer  2017-12-31   15  \n",
       "2            -122.267764     1094    Customer  2017-12-31   22  \n",
       "3            -122.408445     2831    Customer  2017-12-31   17  \n",
       "4            -122.265896     3167  Subscriber  2017-12-31   14  "
      ]
     },
     "execution_count": 46,
     "metadata": {},
     "output_type": "execute_result"
    }
   ],
   "source": [
    "fordgobike.head()"
   ]
  },
  {
   "cell_type": "markdown",
   "metadata": {
    "slideshow": {
     "slide_type": "slide"
    }
   },
   "source": [
    "#### Wrangle 2018 and 2019 data for future analysis\n",
    "Concat data of months in 2018 and 2019 forming a 2018 and 2019data, **fordgobike_18**,**fordgobike_19**. I also did some cleaning to make it tidy for future analysis."
   ]
  },
  {
   "cell_type": "code",
   "execution_count": 47,
   "metadata": {
    "slideshow": {
     "slide_type": "skip"
    }
   },
   "outputs": [],
   "source": [
    "fordgobike_18 = pd.read_csv(r'C:\\Users\\HUA\\Desktop\\Mini program\\Project5\\proj\\2018\\201801-fordgobike-tripdata.csv')\n",
    "months_18 = ['02', '03', '04', '05', '06', '07', '08', '09', '10', '11', '12']\n",
    "\n",
    "for month in months_18:\n",
    "    month_path = r'C:\\Users\\HUA\\Desktop\\Mini program\\Project5\\proj\\2018\\2018'+ month + '-fordgobike-tripdata.csv'\n",
    "    f = pd.read_csv(month_path)\n",
    "    fordgobike_18 = pd.concat([fordgobike_18,f])"
   ]
  },
  {
   "cell_type": "code",
   "execution_count": 48,
   "metadata": {
    "slideshow": {
     "slide_type": "skip"
    }
   },
   "outputs": [
    {
     "name": "stderr",
     "output_type": "stream",
     "text": [
      "C:\\Users\\HUA\\Anaconda3\\lib\\site-packages\\IPython\\core\\interactiveshell.py:3058: DtypeWarning: Columns (14) have mixed types. Specify dtype option on import or set low_memory=False.\n",
      "  interactivity=interactivity, compiler=compiler, result=result)\n",
      "C:\\Users\\HUA\\Anaconda3\\lib\\site-packages\\ipykernel_launcher.py:15: FutureWarning: Sorting because non-concatenation axis is not aligned. A future version\n",
      "of pandas will change to not sort by default.\n",
      "\n",
      "To accept the future behavior, pass 'sort=False'.\n",
      "\n",
      "To retain the current behavior and silence the warning, pass 'sort=True'.\n",
      "\n",
      "  from ipykernel import kernelapp as app\n",
      "C:\\Users\\HUA\\Anaconda3\\lib\\site-packages\\IPython\\core\\interactiveshell.py:3058: DtypeWarning: Columns (13,14) have mixed types. Specify dtype option on import or set low_memory=False.\n",
      "  interactivity=interactivity, compiler=compiler, result=result)\n",
      "C:\\Users\\HUA\\Anaconda3\\lib\\site-packages\\IPython\\core\\interactiveshell.py:3058: DtypeWarning: Columns (13) have mixed types. Specify dtype option on import or set low_memory=False.\n",
      "  interactivity=interactivity, compiler=compiler, result=result)\n"
     ]
    }
   ],
   "source": [
    "fordgobike_19 = pd.read_csv(r'C:\\Users\\HUA\\Desktop\\Mini program\\Project5\\proj\\2019\\201901-fordgobike-tripdata.csv')\n",
    "ford_19 = ['02', '03', '04']\n",
    "\n",
    "for month in ford_19:\n",
    "    month_path = r'C:\\Users\\HUA\\Desktop\\Mini program\\Project5\\proj\\2019\\2019'+ month + '-fordgobike-tripdata.csv'\n",
    "    f = pd.read_csv(month_path)\n",
    "    fordgobike_19 = pd.concat([fordgobike_19,f])\n",
    "\n",
    "bay_19 = ['201905-baywheels-tripdata.csv','201906-baywheels-tripdata.csv','201907-baywheels-tripdata.csv'\n",
    "          ,'201908-baywheels-tripdata.csv','201909-baywheels-tripdata.csv','201910-baywheels-tripdata.csv'\n",
    "          ,'201911-baywheels-tripdata.csv','201912-baywheels-tripdata.csv']\n",
    "for rest in bay_19:\n",
    "    b_path = r'C:\\Users\\HUA\\Desktop\\Mini program\\Project5\\proj\\2019\\\\' + rest\n",
    "    f = pd.read_csv(b_path)\n",
    "    fordgobike_19 = pd.concat([fordgobike_19,f])"
   ]
  },
  {
   "cell_type": "code",
   "execution_count": 49,
   "metadata": {
    "slideshow": {
     "slide_type": "skip"
    }
   },
   "outputs": [],
   "source": [
    "fordgobike_18['date'] = [i[0] for i in fordgobike_18['start_time'].str.split(' ')]\n",
    "fordgobike_18['hour'] = [i[1].split(':')[0] for i in fordgobike_18['start_time'].str.split(' ')]\n",
    "\n",
    "fordgobike_19['date'] = [i[0] for i in fordgobike_19['start_time'].str.split(' ')]\n",
    "fordgobike_19['hour'] = [i[1].split(':')[0] for i in fordgobike_19['start_time'].str.split(' ')]"
   ]
  },
  {
   "cell_type": "code",
   "execution_count": 50,
   "metadata": {
    "slideshow": {
     "slide_type": "slide"
    }
   },
   "outputs": [
    {
     "data": {
      "text/html": [
       "<div>\n",
       "<style scoped>\n",
       "    .dataframe tbody tr th:only-of-type {\n",
       "        vertical-align: middle;\n",
       "    }\n",
       "\n",
       "    .dataframe tbody tr th {\n",
       "        vertical-align: top;\n",
       "    }\n",
       "\n",
       "    .dataframe thead th {\n",
       "        text-align: right;\n",
       "    }\n",
       "</style>\n",
       "<table border=\"1\" class=\"dataframe\">\n",
       "  <thead>\n",
       "    <tr style=\"text-align: right;\">\n",
       "      <th></th>\n",
       "      <th>duration_sec</th>\n",
       "      <th>start_time</th>\n",
       "      <th>end_time</th>\n",
       "      <th>start_station_id</th>\n",
       "      <th>start_station_name</th>\n",
       "      <th>start_station_latitude</th>\n",
       "      <th>start_station_longitude</th>\n",
       "      <th>end_station_id</th>\n",
       "      <th>end_station_name</th>\n",
       "      <th>end_station_latitude</th>\n",
       "      <th>end_station_longitude</th>\n",
       "      <th>bike_id</th>\n",
       "      <th>user_type</th>\n",
       "      <th>bike_share_for_all_trip</th>\n",
       "      <th>date</th>\n",
       "      <th>hour</th>\n",
       "    </tr>\n",
       "  </thead>\n",
       "  <tbody>\n",
       "    <tr>\n",
       "      <td>0</td>\n",
       "      <td>75284</td>\n",
       "      <td>2018-01-31 22:52:35.2390</td>\n",
       "      <td>2018-02-01 19:47:19.8240</td>\n",
       "      <td>120.0</td>\n",
       "      <td>Mission Dolores Park</td>\n",
       "      <td>37.761420</td>\n",
       "      <td>-122.426435</td>\n",
       "      <td>285.0</td>\n",
       "      <td>Webster St at O'Farrell St</td>\n",
       "      <td>37.783521</td>\n",
       "      <td>-122.431158</td>\n",
       "      <td>2765</td>\n",
       "      <td>Subscriber</td>\n",
       "      <td>No</td>\n",
       "      <td>2018-01-31</td>\n",
       "      <td>22</td>\n",
       "    </tr>\n",
       "    <tr>\n",
       "      <td>1</td>\n",
       "      <td>85422</td>\n",
       "      <td>2018-01-31 16:13:34.3510</td>\n",
       "      <td>2018-02-01 15:57:17.3100</td>\n",
       "      <td>15.0</td>\n",
       "      <td>San Francisco Ferry Building (Harry Bridges Pl...</td>\n",
       "      <td>37.795392</td>\n",
       "      <td>-122.394203</td>\n",
       "      <td>15.0</td>\n",
       "      <td>San Francisco Ferry Building (Harry Bridges Pl...</td>\n",
       "      <td>37.795392</td>\n",
       "      <td>-122.394203</td>\n",
       "      <td>2815</td>\n",
       "      <td>Customer</td>\n",
       "      <td>No</td>\n",
       "      <td>2018-01-31</td>\n",
       "      <td>16</td>\n",
       "    </tr>\n",
       "    <tr>\n",
       "      <td>2</td>\n",
       "      <td>71576</td>\n",
       "      <td>2018-01-31 14:23:55.8890</td>\n",
       "      <td>2018-02-01 10:16:52.1160</td>\n",
       "      <td>304.0</td>\n",
       "      <td>Jackson St at 5th St</td>\n",
       "      <td>37.348759</td>\n",
       "      <td>-121.894798</td>\n",
       "      <td>296.0</td>\n",
       "      <td>5th St at Virginia St</td>\n",
       "      <td>37.325998</td>\n",
       "      <td>-121.877120</td>\n",
       "      <td>3039</td>\n",
       "      <td>Customer</td>\n",
       "      <td>No</td>\n",
       "      <td>2018-01-31</td>\n",
       "      <td>14</td>\n",
       "    </tr>\n",
       "    <tr>\n",
       "      <td>3</td>\n",
       "      <td>61076</td>\n",
       "      <td>2018-01-31 14:53:23.5620</td>\n",
       "      <td>2018-02-01 07:51:20.5000</td>\n",
       "      <td>75.0</td>\n",
       "      <td>Market St at Franklin St</td>\n",
       "      <td>37.773793</td>\n",
       "      <td>-122.421239</td>\n",
       "      <td>47.0</td>\n",
       "      <td>4th St at Harrison St</td>\n",
       "      <td>37.780955</td>\n",
       "      <td>-122.399749</td>\n",
       "      <td>321</td>\n",
       "      <td>Customer</td>\n",
       "      <td>No</td>\n",
       "      <td>2018-01-31</td>\n",
       "      <td>14</td>\n",
       "    </tr>\n",
       "    <tr>\n",
       "      <td>4</td>\n",
       "      <td>39966</td>\n",
       "      <td>2018-01-31 19:52:24.6670</td>\n",
       "      <td>2018-02-01 06:58:31.0530</td>\n",
       "      <td>74.0</td>\n",
       "      <td>Laguna St at Hayes St</td>\n",
       "      <td>37.776435</td>\n",
       "      <td>-122.426244</td>\n",
       "      <td>19.0</td>\n",
       "      <td>Post St at Kearny St</td>\n",
       "      <td>37.788975</td>\n",
       "      <td>-122.403452</td>\n",
       "      <td>617</td>\n",
       "      <td>Subscriber</td>\n",
       "      <td>No</td>\n",
       "      <td>2018-01-31</td>\n",
       "      <td>19</td>\n",
       "    </tr>\n",
       "  </tbody>\n",
       "</table>\n",
       "</div>"
      ],
      "text/plain": [
       "   duration_sec                start_time                  end_time  \\\n",
       "0         75284  2018-01-31 22:52:35.2390  2018-02-01 19:47:19.8240   \n",
       "1         85422  2018-01-31 16:13:34.3510  2018-02-01 15:57:17.3100   \n",
       "2         71576  2018-01-31 14:23:55.8890  2018-02-01 10:16:52.1160   \n",
       "3         61076  2018-01-31 14:53:23.5620  2018-02-01 07:51:20.5000   \n",
       "4         39966  2018-01-31 19:52:24.6670  2018-02-01 06:58:31.0530   \n",
       "\n",
       "   start_station_id                                 start_station_name  \\\n",
       "0             120.0                               Mission Dolores Park   \n",
       "1              15.0  San Francisco Ferry Building (Harry Bridges Pl...   \n",
       "2             304.0                               Jackson St at 5th St   \n",
       "3              75.0                           Market St at Franklin St   \n",
       "4              74.0                              Laguna St at Hayes St   \n",
       "\n",
       "   start_station_latitude  start_station_longitude  end_station_id  \\\n",
       "0               37.761420              -122.426435           285.0   \n",
       "1               37.795392              -122.394203            15.0   \n",
       "2               37.348759              -121.894798           296.0   \n",
       "3               37.773793              -122.421239            47.0   \n",
       "4               37.776435              -122.426244            19.0   \n",
       "\n",
       "                                    end_station_name  end_station_latitude  \\\n",
       "0                         Webster St at O'Farrell St             37.783521   \n",
       "1  San Francisco Ferry Building (Harry Bridges Pl...             37.795392   \n",
       "2                              5th St at Virginia St             37.325998   \n",
       "3                              4th St at Harrison St             37.780955   \n",
       "4                               Post St at Kearny St             37.788975   \n",
       "\n",
       "   end_station_longitude  bike_id   user_type bike_share_for_all_trip  \\\n",
       "0            -122.431158     2765  Subscriber                      No   \n",
       "1            -122.394203     2815    Customer                      No   \n",
       "2            -121.877120     3039    Customer                      No   \n",
       "3            -122.399749      321    Customer                      No   \n",
       "4            -122.403452      617  Subscriber                      No   \n",
       "\n",
       "         date hour  \n",
       "0  2018-01-31   22  \n",
       "1  2018-01-31   16  \n",
       "2  2018-01-31   14  \n",
       "3  2018-01-31   14  \n",
       "4  2018-01-31   19  "
      ]
     },
     "execution_count": 50,
     "metadata": {},
     "output_type": "execute_result"
    }
   ],
   "source": [
    "fordgobike_18.head()"
   ]
  },
  {
   "cell_type": "code",
   "execution_count": 51,
   "metadata": {
    "slideshow": {
     "slide_type": "slide"
    }
   },
   "outputs": [
    {
     "data": {
      "text/html": [
       "<div>\n",
       "<style scoped>\n",
       "    .dataframe tbody tr th:only-of-type {\n",
       "        vertical-align: middle;\n",
       "    }\n",
       "\n",
       "    .dataframe tbody tr th {\n",
       "        vertical-align: top;\n",
       "    }\n",
       "\n",
       "    .dataframe thead th {\n",
       "        text-align: right;\n",
       "    }\n",
       "</style>\n",
       "<table border=\"1\" class=\"dataframe\">\n",
       "  <thead>\n",
       "    <tr style=\"text-align: right;\">\n",
       "      <th></th>\n",
       "      <th>bike_id</th>\n",
       "      <th>bike_share_for_all_trip</th>\n",
       "      <th>duration_sec</th>\n",
       "      <th>end_station_id</th>\n",
       "      <th>end_station_latitude</th>\n",
       "      <th>end_station_longitude</th>\n",
       "      <th>end_station_name</th>\n",
       "      <th>end_time</th>\n",
       "      <th>rental_access_method</th>\n",
       "      <th>start_station_id</th>\n",
       "      <th>start_station_latitude</th>\n",
       "      <th>start_station_longitude</th>\n",
       "      <th>start_station_name</th>\n",
       "      <th>start_time</th>\n",
       "      <th>user_type</th>\n",
       "      <th>date</th>\n",
       "      <th>hour</th>\n",
       "    </tr>\n",
       "  </thead>\n",
       "  <tbody>\n",
       "    <tr>\n",
       "      <td>0</td>\n",
       "      <td>4861</td>\n",
       "      <td>No</td>\n",
       "      <td>80825</td>\n",
       "      <td>196.0</td>\n",
       "      <td>37.808894</td>\n",
       "      <td>-122.256460</td>\n",
       "      <td>Grand Ave at Perkins St</td>\n",
       "      <td>2019-02-01 16:24:49.8640</td>\n",
       "      <td>NaN</td>\n",
       "      <td>229.0</td>\n",
       "      <td>37.775745</td>\n",
       "      <td>-122.213037</td>\n",
       "      <td>Foothill Blvd at 42nd Ave</td>\n",
       "      <td>2019-01-31 17:57:44.6130</td>\n",
       "      <td>Subscriber</td>\n",
       "      <td>2019-01-31</td>\n",
       "      <td>17</td>\n",
       "    </tr>\n",
       "    <tr>\n",
       "      <td>1</td>\n",
       "      <td>5506</td>\n",
       "      <td>No</td>\n",
       "      <td>65900</td>\n",
       "      <td>134.0</td>\n",
       "      <td>37.752428</td>\n",
       "      <td>-122.420628</td>\n",
       "      <td>Valencia St at 24th St</td>\n",
       "      <td>2019-02-01 15:16:54.1730</td>\n",
       "      <td>NaN</td>\n",
       "      <td>4.0</td>\n",
       "      <td>37.785881</td>\n",
       "      <td>-122.408915</td>\n",
       "      <td>Cyril Magnin St at Ellis St</td>\n",
       "      <td>2019-01-31 20:58:33.8860</td>\n",
       "      <td>Subscriber</td>\n",
       "      <td>2019-01-31</td>\n",
       "      <td>20</td>\n",
       "    </tr>\n",
       "    <tr>\n",
       "      <td>2</td>\n",
       "      <td>2717</td>\n",
       "      <td>No</td>\n",
       "      <td>62633</td>\n",
       "      <td>157.0</td>\n",
       "      <td>37.846784</td>\n",
       "      <td>-122.291376</td>\n",
       "      <td>65th St at Hollis St</td>\n",
       "      <td>2019-02-01 11:30:46.5300</td>\n",
       "      <td>NaN</td>\n",
       "      <td>245.0</td>\n",
       "      <td>37.870139</td>\n",
       "      <td>-122.268422</td>\n",
       "      <td>Downtown Berkeley BART</td>\n",
       "      <td>2019-01-31 18:06:52.9240</td>\n",
       "      <td>Customer</td>\n",
       "      <td>2019-01-31</td>\n",
       "      <td>18</td>\n",
       "    </tr>\n",
       "    <tr>\n",
       "      <td>3</td>\n",
       "      <td>4557</td>\n",
       "      <td>No</td>\n",
       "      <td>44680</td>\n",
       "      <td>53.0</td>\n",
       "      <td>37.775946</td>\n",
       "      <td>-122.437777</td>\n",
       "      <td>Grove St at Divisadero</td>\n",
       "      <td>2019-02-01 08:10:50.3180</td>\n",
       "      <td>NaN</td>\n",
       "      <td>85.0</td>\n",
       "      <td>37.770083</td>\n",
       "      <td>-122.429156</td>\n",
       "      <td>Church St at Duboce Ave</td>\n",
       "      <td>2019-01-31 19:46:09.7190</td>\n",
       "      <td>Customer</td>\n",
       "      <td>2019-01-31</td>\n",
       "      <td>19</td>\n",
       "    </tr>\n",
       "    <tr>\n",
       "      <td>4</td>\n",
       "      <td>2100</td>\n",
       "      <td>No</td>\n",
       "      <td>60709</td>\n",
       "      <td>28.0</td>\n",
       "      <td>37.787168</td>\n",
       "      <td>-122.388098</td>\n",
       "      <td>The Embarcadero at Bryant St</td>\n",
       "      <td>2019-02-01 07:10:51.0650</td>\n",
       "      <td>NaN</td>\n",
       "      <td>16.0</td>\n",
       "      <td>37.794130</td>\n",
       "      <td>-122.394430</td>\n",
       "      <td>Steuart St at Market St</td>\n",
       "      <td>2019-01-31 14:19:01.5410</td>\n",
       "      <td>Customer</td>\n",
       "      <td>2019-01-31</td>\n",
       "      <td>14</td>\n",
       "    </tr>\n",
       "  </tbody>\n",
       "</table>\n",
       "</div>"
      ],
      "text/plain": [
       "   bike_id bike_share_for_all_trip  duration_sec  end_station_id  \\\n",
       "0     4861                      No         80825           196.0   \n",
       "1     5506                      No         65900           134.0   \n",
       "2     2717                      No         62633           157.0   \n",
       "3     4557                      No         44680            53.0   \n",
       "4     2100                      No         60709            28.0   \n",
       "\n",
       "   end_station_latitude  end_station_longitude              end_station_name  \\\n",
       "0             37.808894            -122.256460       Grand Ave at Perkins St   \n",
       "1             37.752428            -122.420628        Valencia St at 24th St   \n",
       "2             37.846784            -122.291376          65th St at Hollis St   \n",
       "3             37.775946            -122.437777        Grove St at Divisadero   \n",
       "4             37.787168            -122.388098  The Embarcadero at Bryant St   \n",
       "\n",
       "                   end_time rental_access_method  start_station_id  \\\n",
       "0  2019-02-01 16:24:49.8640                  NaN             229.0   \n",
       "1  2019-02-01 15:16:54.1730                  NaN               4.0   \n",
       "2  2019-02-01 11:30:46.5300                  NaN             245.0   \n",
       "3  2019-02-01 08:10:50.3180                  NaN              85.0   \n",
       "4  2019-02-01 07:10:51.0650                  NaN              16.0   \n",
       "\n",
       "   start_station_latitude  start_station_longitude  \\\n",
       "0               37.775745              -122.213037   \n",
       "1               37.785881              -122.408915   \n",
       "2               37.870139              -122.268422   \n",
       "3               37.770083              -122.429156   \n",
       "4               37.794130              -122.394430   \n",
       "\n",
       "            start_station_name                start_time   user_type  \\\n",
       "0    Foothill Blvd at 42nd Ave  2019-01-31 17:57:44.6130  Subscriber   \n",
       "1  Cyril Magnin St at Ellis St  2019-01-31 20:58:33.8860  Subscriber   \n",
       "2       Downtown Berkeley BART  2019-01-31 18:06:52.9240    Customer   \n",
       "3      Church St at Duboce Ave  2019-01-31 19:46:09.7190    Customer   \n",
       "4      Steuart St at Market St  2019-01-31 14:19:01.5410    Customer   \n",
       "\n",
       "         date hour  \n",
       "0  2019-01-31   17  \n",
       "1  2019-01-31   20  \n",
       "2  2019-01-31   18  \n",
       "3  2019-01-31   19  \n",
       "4  2019-01-31   14  "
      ]
     },
     "execution_count": 51,
     "metadata": {},
     "output_type": "execute_result"
    }
   ],
   "source": [
    "fordgobike_19.head()"
   ]
  },
  {
   "cell_type": "code",
   "execution_count": 52,
   "metadata": {
    "slideshow": {
     "slide_type": "skip"
    }
   },
   "outputs": [],
   "source": [
    "fordgobike['month'] = [mo[1] for mo in fordgobike['date'].str.split('-')]\n",
    "fordgobike_18['month'] = [mo[1] for mo in fordgobike_18['date'].str.split('-')]\n",
    "fordgobike_19['month'] = [mo[1] for mo in fordgobike_19['date'].str.split('-')]"
   ]
  },
  {
   "cell_type": "code",
   "execution_count": 53,
   "metadata": {
    "slideshow": {
     "slide_type": "slide"
    }
   },
   "outputs": [
    {
     "data": {
      "text/plain": [
       "(1863721, 17)"
      ]
     },
     "execution_count": 53,
     "metadata": {},
     "output_type": "execute_result"
    }
   ],
   "source": [
    "fordgobike_18.shape"
   ]
  },
  {
   "cell_type": "code",
   "execution_count": 54,
   "metadata": {
    "slideshow": {
     "slide_type": "slide"
    }
   },
   "outputs": [
    {
     "data": {
      "text/plain": [
       "(2506983, 18)"
      ]
     },
     "execution_count": 54,
     "metadata": {},
     "output_type": "execute_result"
    }
   ],
   "source": [
    "fordgobike_19.shape"
   ]
  },
  {
   "cell_type": "code",
   "execution_count": 55,
   "metadata": {
    "slideshow": {
     "slide_type": "slide"
    }
   },
   "outputs": [
    {
     "data": {
      "text/plain": [
       "Subscriber    1583554\n",
       "Customer       280167\n",
       "Name: user_type, dtype: int64"
      ]
     },
     "execution_count": 55,
     "metadata": {},
     "output_type": "execute_result"
    }
   ],
   "source": [
    "fordgobike_18['user_type'].value_counts()"
   ]
  },
  {
   "cell_type": "code",
   "execution_count": 56,
   "metadata": {
    "slideshow": {
     "slide_type": "slide"
    }
   },
   "outputs": [
    {
     "data": {
      "text/plain": [
       "Subscriber    2021166\n",
       "Customer       485817\n",
       "Name: user_type, dtype: int64"
      ]
     },
     "execution_count": 56,
     "metadata": {},
     "output_type": "execute_result"
    }
   ],
   "source": [
    "fordgobike_19['user_type'].value_counts()"
   ]
  },
  {
   "cell_type": "markdown",
   "metadata": {
    "slideshow": {
     "slide_type": "slide"
    }
   },
   "source": [
    "### What is the structure of your dataset?\n",
    "\n",
    "> There are 519700 entries in the dataset **fordbygo** in 2017, 1863721 in the dataset **fordbygo_2018** and 2021166 in the dataset **fordbygo_2019**. All of them have 13 features: 'duration_sec', 'start_time', 'end_time', 'start_station_id', 'start_station_name', 'start_station_latitude', 'start_station_longitude', 'end_station_id', 'end_station_name', 'end_station_latitude', 'end_station_longitude', 'bike_id', 'user_type', 'bike_share_for_all_trip'. Most variables are numerical in nature except start_station_name ,end_station_name and user_type. Considering these datasets come from California only, I care more about thr categorical variable: *user_type*, which could be Subscriber or Customer.\n",
    "\n",
    "### What is/are the main feature(s) of interest in your dataset?\n",
    "\n",
    "> I'm most interested in what variable has effect on the overall trending for a specific year, so I'll focus mostly on 2018 and 2019 data considering incompleteness of 2017 dataset.\n",
    "\n",
    "### What features in the dataset do you think will help support your investigation into your feature(s) of interest?\n",
    "\n",
    "> I'm expecting seasons and hours have impact on the result: cold winter could result in less bike travels, rush hours could lead to higher demand for bikes."
   ]
  },
  {
   "cell_type": "markdown",
   "metadata": {
    "slideshow": {
     "slide_type": "subslide"
    }
   },
   "source": [
    "## Univariate Exploration\n",
    "\n",
    "> I'll start by looking at the overall monthly, hourly distribution."
   ]
  },
  {
   "cell_type": "code",
   "execution_count": 57,
   "metadata": {
    "slideshow": {
     "slide_type": "notes"
    }
   },
   "outputs": [
    {
     "data": {
      "image/png": "[encoded data removed]",
      "text/plain": [
       "<Figure size 432x288 with 1 Axes>"
      ]
     },
     "metadata": {
      "needs_background": "light"
     },
     "output_type": "display_data"
    }
   ],
   "source": [
    "months = ['01','02', '03', '04', '05', '06', '07', '08', '09', '10', '11', '12']\n",
    "sb.countplot(data=fordgobike\n",
    "             ,x='month'\n",
    "             ,order=months\n",
    "             ,color=sb.color_palette()[0]);\n",
    "plt.title('Number of rides for each month in 2017');"
   ]
  },
  {
   "cell_type": "code",
   "execution_count": 58,
   "metadata": {},
   "outputs": [
    {
     "data": {
      "image/png": "[encoded data removed]",
      "text/plain": [
       "<Figure size 216x288 with 1 Axes>"
      ]
     },
     "metadata": {
      "needs_background": "light"
     },
     "output_type": "display_data"
    }
   ],
   "source": [
    "#user growth\n",
    "user_growth = (fordgobike_18.shape[0], fordgobike_19.shape[0])\n",
    "figure = plt.figure(figsize=(3,4))\n",
    "plt.bar(['2018', '2019'],\n",
    "       user_growth\n",
    "       ,width=0.3);\n",
    "plt.ylabel('Number of records');\n",
    "plt.xlabel('Year');\n",
    "plt.title('Total number of records for each year');"
   ]
  },
  {
   "cell_type": "code",
   "execution_count": 59,
   "metadata": {},
   "outputs": [
    {
     "data": {
      "text/plain": [
       "0.3451493007805353"
      ]
     },
     "execution_count": 59,
     "metadata": {},
     "output_type": "execute_result"
    }
   ],
   "source": [
    "(fordgobike_19.shape[0]-fordgobike_18.shape[0])/fordgobike_18.shape[0]"
   ]
  },
  {
   "cell_type": "code",
   "execution_count": 60,
   "metadata": {
    "scrolled": true,
    "slideshow": {
     "slide_type": "notes"
    }
   },
   "outputs": [
    {
     "data": {
      "image/png": "[encoded data removed]",
      "text/plain": [
       "<Figure size 432x288 with 1 Axes>"
      ]
     },
     "metadata": {
      "needs_background": "light"
     },
     "output_type": "display_data"
    }
   ],
   "source": [
    "sb.countplot(data=fordgobike_18\n",
    "             ,x='month'\n",
    "             ,order=months\n",
    "             ,color=sb.color_palette()[0]);\n",
    "plt.title('Number of rides for each month in 2018');"
   ]
  },
  {
   "cell_type": "code",
   "execution_count": 61,
   "metadata": {
    "slideshow": {
     "slide_type": "notes"
    }
   },
   "outputs": [
    {
     "data": {
      "image/png": "[encoded data removed]",
      "text/plain": [
       "<Figure size 432x288 with 1 Axes>"
      ]
     },
     "metadata": {
      "needs_background": "light"
     },
     "output_type": "display_data"
    }
   ],
   "source": [
    "sb.countplot(data=fordgobike_19\n",
    "             ,x='month'\n",
    "             ,order=months\n",
    "             ,color=sb.color_palette()[0]);\n",
    "plt.title('Number of rides for each month in 2019');"
   ]
  },
  {
   "cell_type": "markdown",
   "metadata": {
    "slideshow": {
     "slide_type": "slide"
    }
   },
   "source": [
    "Bar charts of 2017 shows an incomplete data, this could result from program starting time. Despite unestablished user habit, the data decreases from October to November,which shows the same trend to 2018 distribution.\n",
    "\n",
    "According to 2018 chart, it is obviously ride-count boost during summer (from May to October).\n",
    "\n",
    "However, 2019 shows a different pattern if we notice the surge in March and April."
   ]
  },
  {
   "cell_type": "code",
   "execution_count": 62,
   "metadata": {
    "slideshow": {
     "slide_type": "notes"
    }
   },
   "outputs": [
    {
     "data": {
      "image/png": "[encoded data removed]",
      "text/plain": [
       "<Figure size 432x288 with 1 Axes>"
      ]
     },
     "metadata": {
      "needs_background": "light"
     },
     "output_type": "display_data"
    }
   ],
   "source": [
    "bins_ = np.arange(0,fordgobike_18['duration_sec'].max()+30,30)\n",
    "plt.hist(x=fordgobike_18['duration_sec']\n",
    "        , bins=bins_);\n",
    "# It's obvious there are outliers in dataset, I would set the limit where most data landed first.\n",
    "plt.xlim(0, 3600);\n",
    "plt.xlabel('Travel duration');\n",
    "plt.ylabel('Count');\n",
    "plt.title('Travel duration counts for 2018');"
   ]
  },
  {
   "cell_type": "markdown",
   "metadata": {
    "slideshow": {
     "slide_type": "slide"
    }
   },
   "source": [
    "Travel duration for 2017 has a right tail with the peak around 500s which is between 8 and 9 minutes.\n",
    "\n",
    "I'll move to the values larger than 3600, one hour, which are the data not included in the above plot."
   ]
  },
  {
   "cell_type": "code",
   "execution_count": 63,
   "metadata": {
    "slideshow": {
     "slide_type": "notes"
    }
   },
   "outputs": [
    {
     "data": {
      "image/png": "[encoded data removed]",
      "text/plain": [
       "<Figure size 432x288 with 1 Axes>"
      ]
     },
     "metadata": {
      "needs_background": "light"
     },
     "output_type": "display_data"
    }
   ],
   "source": [
    "plt.hist(x=fordgobike_19['duration_sec']\n",
    "        , bins=bins_);\n",
    "# It's obvious there are outliers in dataset, I would set the limit where most data landed first.\n",
    "plt.xlim(0, 3600);\n",
    "plt.xlabel('Travel duration');\n",
    "plt.ylabel('Count');\n",
    "plt.title('Travel duration counts for 2019');"
   ]
  },
  {
   "cell_type": "markdown",
   "metadata": {
    "slideshow": {
     "slide_type": "slide"
    }
   },
   "source": [
    "Travel duration plot of 2019 shows a similar right-tailed pattern, except it has a higher y limit."
   ]
  },
  {
   "cell_type": "code",
   "execution_count": 64,
   "metadata": {
    "slideshow": {
     "slide_type": "notes"
    }
   },
   "outputs": [
    {
     "data": {
      "image/png": "[encoded data removed]",
      "text/plain": [
       "<Figure size 432x288 with 1 Axes>"
      ]
     },
     "metadata": {
      "needs_background": "light"
     },
     "output_type": "display_data"
    }
   ],
   "source": [
    "out_ = fordgobike_18[fordgobike_18['duration_sec']>3600]['duration_sec'] #31569\n",
    "\n",
    "bins_ = np.arange(3600,out_.max()+3600, 3600)\n",
    "plt.hist(x=out_\n",
    "        , bins=bins_);\n",
    "plt.title('Trave time longer than an hour in 2018')\n",
    "plt.ylabel('Count');\n",
    "plt.xlabel('Travel time (second)');"
   ]
  },
  {
   "cell_type": "code",
   "execution_count": 65,
   "metadata": {
    "slideshow": {
     "slide_type": "notes"
    }
   },
   "outputs": [
    {
     "data": {
      "image/png": "[encoded data removed]",
      "text/plain": [
       "<Figure size 432x288 with 1 Axes>"
      ]
     },
     "metadata": {
      "needs_background": "light"
     },
     "output_type": "display_data"
    }
   ],
   "source": [
    "bins_ = 10 ** np.arange(np.log10(3600),np.log10(out_.max())+0.1, 0.1)\n",
    "\n",
    "plt.hist(x=out_\n",
    "        , bins=bins_);\n",
    "plt.xscale('log');\n",
    "plt.ylabel('Count');\n",
    "plt.xlabel('Travel time (second)');\n",
    "plt.xticks([3e3,5e3, 1e4, 2e4, 5e4, 1e5],['3k', '5k', '10k', '20k','50k', '100k']);\n",
    "plt.title('Tavel time longer than an hour log scale plot 2018');"
   ]
  },
  {
   "cell_type": "markdown",
   "metadata": {
    "slideshow": {
     "slide_type": "slide"
    }
   },
   "source": [
    "Travels more than an hour records (31569) in 2018 take up 1.7% of the whole records(1863721). Plot of these records presents a long-tailed distribution. After applying log scale to the travel time (x axis), the distribution still shows a decaying trend with right tail."
   ]
  },
  {
   "cell_type": "code",
   "execution_count": 66,
   "metadata": {
    "slideshow": {
     "slide_type": "notes"
    }
   },
   "outputs": [
    {
     "data": {
      "image/png": "[encoded data removed]",
      "text/plain": [
       "<Figure size 432x288 with 1 Axes>"
      ]
     },
     "metadata": {
      "needs_background": "light"
     },
     "output_type": "display_data"
    }
   ],
   "source": [
    "out_19 = fordgobike_19[fordgobike_19['duration_sec']>3600]['duration_sec'] #31569\n",
    "\n",
    "bins_19 = np.arange(3600,out_19.max()+3600, 3600)\n",
    "plt.hist(x=out_19\n",
    "        , bins=bins_19);\n",
    "plt.title('Trave time longer than an hour in 2019')\n",
    "plt.ylabel('Count');\n",
    "plt.xlabel('Travel time (second)');"
   ]
  },
  {
   "cell_type": "markdown",
   "metadata": {
    "slideshow": {
     "slide_type": "slide"
    }
   },
   "source": [
    "2019 outlier plot has a sharper peak than 2018, so I will plot a log scale plot for a clearer observation."
   ]
  },
  {
   "cell_type": "code",
   "execution_count": 67,
   "metadata": {
    "slideshow": {
     "slide_type": "notes"
    }
   },
   "outputs": [
    {
     "data": {
      "image/png": "[encoded data removed]",
      "text/plain": [
       "<Figure size 432x288 with 1 Axes>"
      ]
     },
     "metadata": {
      "needs_background": "light"
     },
     "output_type": "display_data"
    }
   ],
   "source": [
    "bins_19 = 10 ** np.arange(np.log10(3600),np.log10(out_.max())+0.1, 0.1)\n",
    "\n",
    "plt.hist(x=out_19\n",
    "        , bins=bins_19);\n",
    "plt.xscale('log');\n",
    "plt.ylabel('Count');\n",
    "plt.xlabel('Travel time (second)');\n",
    "plt.xticks([3e3,5e3, 1e4, 2e4, 5e4, 1e5],['3k', '5k', '10k', '20k','50k', '100k']);\n",
    "plt.title('Tavel time longer than an hour log scale plot 2019');"
   ]
  },
  {
   "cell_type": "markdown",
   "metadata": {
    "slideshow": {
     "slide_type": "slide"
    }
   },
   "source": [
    "Travels more than an hour records (30532) in 2018 take up 1.2% of the whole records(2,011,166). Plot of these records presents a long-tailed distribution as well. After applying log scale to the travel time (x axis), the distribution still shows a decaying trend with right tail.\n",
    "\n",
    "2019 has a more records than 2018 but has a lower long-time(more than an hour) riding records. This could possibly resulted from forgetting to report ending a travel, or big event in 2018 caused the long-time travel. To identify the reason for improving the product, further research is needed.\n",
    "\n",
    "I'll look at the distribution of user types."
   ]
  },
  {
   "cell_type": "code",
   "execution_count": 68,
   "metadata": {
    "slideshow": {
     "slide_type": "notes"
    }
   },
   "outputs": [
    {
     "data": {
      "image/png": "[encoded data removed]",
      "text/plain": [
       "<Figure size 432x288 with 1 Axes>"
      ]
     },
     "metadata": {},
     "output_type": "display_data"
    }
   ],
   "source": [
    "plt.pie(fordgobike_18['user_type'].value_counts()\n",
    "       , labels=fordgobike_18['user_type'].value_counts().index\n",
    "       , startangle=90\n",
    "       , autopct='%1.1f%%');\n",
    "plt.title('User type distribution of 2018');"
   ]
  },
  {
   "cell_type": "code",
   "execution_count": 69,
   "metadata": {
    "slideshow": {
     "slide_type": "notes"
    }
   },
   "outputs": [
    {
     "data": {
      "image/png": "[encoded data removed]",
      "text/plain": [
       "<Figure size 432x288 with 1 Axes>"
      ]
     },
     "metadata": {},
     "output_type": "display_data"
    }
   ],
   "source": [
    "plt.pie(fordgobike_19['user_type'].value_counts()\n",
    "       , labels=fordgobike_19['user_type'].value_counts().index\n",
    "       , startangle=90\n",
    "       , autopct='%1.1f%%');\n",
    "plt.title('User type distribution of 2019');"
   ]
  },
  {
   "cell_type": "markdown",
   "metadata": {
    "slideshow": {
     "slide_type": "slide"
    }
   },
   "source": [
    "It can be seen from these pie charts, majority of the users are subscribers. In 2019 the percentage of customer has increase by 4.4%.\n",
    "\n",
    "I'll now move onto hourly distribution of travel rides."
   ]
  },
  {
   "cell_type": "code",
   "execution_count": 70,
   "metadata": {
    "slideshow": {
     "slide_type": "notes"
    }
   },
   "outputs": [
    {
     "data": {
      "image/png": "[encoded data removed]",
      "text/plain": [
       "<Figure size 432x288 with 1 Axes>"
      ]
     },
     "metadata": {
      "needs_background": "light"
     },
     "output_type": "display_data"
    }
   ],
   "source": [
    "hourly_order =['00', '01', '02', '03', '04', '05', '06', '07', '08', '09'] + [str(i) for i in range(10,25)]\n",
    "\n",
    "sb.countplot(data=fordgobike_18\n",
    "             ,x='hour'\n",
    "             ,order=hourly_order\n",
    "             ,color=sb.color_palette()[0]);\n",
    "plt.title('Number of rides hourly 2018');"
   ]
  },
  {
   "cell_type": "code",
   "execution_count": 71,
   "metadata": {
    "slideshow": {
     "slide_type": "notes"
    }
   },
   "outputs": [
    {
     "data": {
      "image/png": "[encoded data removed]",
      "text/plain": [
       "<Figure size 432x288 with 1 Axes>"
      ]
     },
     "metadata": {
      "needs_background": "light"
     },
     "output_type": "display_data"
    }
   ],
   "source": [
    "hourly_order =['00', '01', '02', '03', '04', '05', '06', '07', '08', '09'] + [str(i) for i in range(10,25)]\n",
    "\n",
    "sb.countplot(data=fordgobike_19\n",
    "             ,x='hour'\n",
    "             ,order=hourly_order\n",
    "             ,color=sb.color_palette()[0]);\n",
    "plt.title('Number of rides hourly 2019');"
   ]
  },
  {
   "cell_type": "markdown",
   "metadata": {
    "slideshow": {
     "slide_type": "slide"
    }
   },
   "source": [
    "Two plots shows a similar bimodal. There are two peaks, one is at 8 a.m. the other peak at 5 p.m. This is a reasonable case considering these are rush hours."
   ]
  },
  {
   "cell_type": "markdown",
   "metadata": {
    "slideshow": {
     "slide_type": "slide"
    }
   },
   "source": [
    "### Discuss the distribution(s) of your variable(s) of interest. Were there any unusual points? Did you need to perform any transformations?\n",
    "\n",
    ">After importing the datasets, the 2017 dataset starts from June, to better observe the data, I concat all the datasets belong to 2018 and 2019 seperately, and then using these two datasets for plotting.\n",
    "\n",
    ">In both cases, the travel time variable took on a large range of values, but most of the values (99%) are less than 3600s, which means these travels are completed less than an hour. So I zoom in to the x between 0 and 3600.The distribution is right-tailed, with peak at 500s.\n",
    "\n",
    ">I then plot the rest of the data with log x scale, finding it still exhibits a decaying curve as travel time increases hourly.Despite the similarity of right tailed model, the 2019 data actually shows a lower ratio of rides longer than an hour.\n",
    "\n",
    "### Of the features you investigated, were there any unusual distributions? Did you perform any operations on the data to tidy, adjust, or change the form of the data? If so, why did you do this?\n",
    "\n",
    "> I am interested in the peak hours and months of bike using. So I did some cleaning of creating columns of *month*and *hour*  in both datasets for convinience. I investigated the hourly and monthly distribution of travels, which is a bimodal distribution with peaks at 8 a.m. and 5 p.m.  "
   ]
  },
  {
   "cell_type": "markdown",
   "metadata": {
    "slideshow": {
     "slide_type": "slide"
    }
   },
   "source": [
    "## Bivariate Exploration\n"
   ]
  },
  {
   "cell_type": "markdown",
   "metadata": {
    "slideshow": {
     "slide_type": "slide"
    }
   },
   "source": [
    "### For 2018"
   ]
  },
  {
   "cell_type": "code",
   "execution_count": 72,
   "metadata": {
    "slideshow": {
     "slide_type": "notes"
    }
   },
   "outputs": [
    {
     "data": {
      "image/png": "[encoded data removed]",
      "text/plain": [
       "<Figure size 432x288 with 1 Axes>"
      ]
     },
     "metadata": {
      "needs_background": "light"
     },
     "output_type": "display_data"
    }
   ],
   "source": [
    "base_color = sb.color_palette()[0]\n",
    "sb.barplot(data=fordgobike_18\n",
    "          , x='month'\n",
    "          , y='duration_sec'\n",
    "#           , ci='sd'\n",
    "          , color=base_color\n",
    "          );\n",
    "plt.xlabel('Month');\n",
    "plt.ylabel('Average travel time (s)');\n",
    "plt.title('Average travel time for each month 2018');"
   ]
  },
  {
   "cell_type": "code",
   "execution_count": 73,
   "metadata": {
    "slideshow": {
     "slide_type": "notes"
    }
   },
   "outputs": [
    {
     "data": {
      "image/png": "[encoded data removed]",
      "text/plain": [
       "<Figure size 432x288 with 1 Axes>"
      ]
     },
     "metadata": {
      "needs_background": "light"
     },
     "output_type": "display_data"
    }
   ],
   "source": [
    "base_color = sb.color_palette()[0]\n",
    "sb.barplot(data=fordgobike_19\n",
    "          , x='month'\n",
    "          , y='duration_sec'\n",
    "#           , ci='sd'\n",
    "          , color=base_color);\n",
    "plt.xlabel('Month');\n",
    "plt.ylabel('Average travel time (s)');\n",
    "plt.title('Average travel time for each month 2019');"
   ]
  },
  {
   "cell_type": "markdown",
   "metadata": {
    "slideshow": {
     "slide_type": "slide"
    }
   },
   "source": [
    "In these two consecutive years, the average using time for each month does not showing a strong fluctuation."
   ]
  },
  {
   "cell_type": "code",
   "execution_count": 74,
   "metadata": {
    "slideshow": {
     "slide_type": "notes"
    }
   },
   "outputs": [
    {
     "data": {
      "image/png": "[encoded data removed]",
      "text/plain": [
       "<Figure size 432x288 with 1 Axes>"
      ]
     },
     "metadata": {
      "needs_background": "light"
     },
     "output_type": "display_data"
    }
   ],
   "source": [
    "sb.countplot(data=fordgobike_18\n",
    "            , x='month'\n",
    "            , hue='user_type');\n",
    "plt.title('Using counts for different user type2018 ');"
   ]
  },
  {
   "cell_type": "markdown",
   "metadata": {
    "slideshow": {
     "slide_type": "slide"
    }
   },
   "source": [
    "In 2018, the trends for subscribers and customers are similar, though the portion of subscribers is much higher than the portion of customers."
   ]
  },
  {
   "cell_type": "code",
   "execution_count": 75,
   "metadata": {
    "slideshow": {
     "slide_type": "notes"
    }
   },
   "outputs": [
    {
     "data": {
      "image/png": "[encoded data removed]",
      "text/plain": [
       "<Figure size 432x288 with 1 Axes>"
      ]
     },
     "metadata": {
      "needs_background": "light"
     },
     "output_type": "display_data"
    }
   ],
   "source": [
    "sb.countplot(data=fordgobike_19\n",
    "            , x='month'\n",
    "            , hue='user_type');\n",
    "plt.title('Using counts for different user type2019 ');"
   ]
  },
  {
   "cell_type": "markdown",
   "metadata": {
    "slideshow": {
     "slide_type": "notes"
    }
   },
   "source": [
    "Unlike the similarity of both user types, the trends for different users are different in 2019. \n",
    "\n",
    "According to the chart, an intuitive guess is the ratio of subscribers and customers is deccreasing. To see if the guess is true, i'll plot the percentage of subscribers in the following part."
   ]
  },
  {
   "cell_type": "code",
   "execution_count": 76,
   "metadata": {
    "slideshow": {
     "slide_type": "notes"
    }
   },
   "outputs": [
    {
     "data": {
      "image/png": "[encoded data removed]",
      "text/plain": [
       "<Figure size 432x288 with 1 Axes>"
      ]
     },
     "metadata": {
      "needs_background": "light"
     },
     "output_type": "display_data"
    }
   ],
   "source": [
    "sub_count_18 = fordgobike_18[fordgobike_18['user_type']=='Subscriber'].groupby(by='month').size()\n",
    "all_count_18 = fordgobike_18.groupby(by='month').size()\n",
    "sub_count_19 = fordgobike_19[fordgobike_19['user_type']=='Subscriber'].groupby(by='month').size()\n",
    "all_count_19 = fordgobike_19.groupby(by='month').size()\n",
    "\n",
    "sub_count_18.index = ['18_'+idx for idx in sub_count_18.index]\n",
    "sub_count_19.index = ['19_'+idx for idx in sub_count_19.index]\n",
    "\n",
    "all_count_18.index = sub_count_18.index\n",
    "all_count_19.index = sub_count_19.index\n",
    "\n",
    "sub_count = pd.concat([sub_count_18, sub_count_19], axis=0)\n",
    "all_count = pd.concat([all_count_18, all_count_19], axis=0)\n",
    "\n",
    "\n",
    "plt.plot(sub_count/all_count);\n",
    "plt.xticks(rotation=300);\n",
    "plt.xlabel('Month');\n",
    "plt.ylabel('The percentage of subscriber users');\n",
    "plt.title('Ratio of subscriber in 2018, 2019');"
   ]
  },
  {
   "cell_type": "markdown",
   "metadata": {
    "slideshow": {
     "slide_type": "slide"
    }
   },
   "source": [
    "From the above plot, it can be observed that the percentage of subscribers is decreasing in general."
   ]
  },
  {
   "cell_type": "markdown",
   "metadata": {
    "slideshow": {
     "slide_type": "slide"
    }
   },
   "source": [
    "### Talk about some of the relationships you observed in this part of the investigation. How did the feature(s) of interest vary with other features in the dataset?\n",
    "\n",
    "> The average travel time for 2018 and 2019 doesn't change much. The subscribers take a much higher portion of all users in both years. \n",
    "\n",
    "### Did you observe any interesting relationships between the other features (not the main feature(s) of interest)?\n",
    "\n",
    "> Despite more subscriber users, the percentage of subscribers actually decreases in 2019, especially the last two months in 2019."
   ]
  },
  {
   "cell_type": "markdown",
   "metadata": {
    "slideshow": {
     "slide_type": "slide"
    }
   },
   "source": [
    "## Multivariate Exploration\n",
    "\n",
    "> Create plots of three or more variables to investigate your data even\n",
    "further. Make sure that your investigations are justified, and follow from\n",
    "your work in the previous sections."
   ]
  },
  {
   "cell_type": "markdown",
   "metadata": {
    "slideshow": {
     "slide_type": "slide"
    }
   },
   "source": [
    "I have seen the trend of using counts for different user types, I'll take a look at duration trend for different user types."
   ]
  },
  {
   "cell_type": "code",
   "execution_count": 77,
   "metadata": {
    "slideshow": {
     "slide_type": "notes"
    }
   },
   "outputs": [
    {
     "data": {
      "image/png": "[encoded data removed]",
      "text/plain": [
       "<Figure size 432x288 with 1 Axes>"
      ]
     },
     "metadata": {
      "needs_background": "light"
     },
     "output_type": "display_data"
    }
   ],
   "source": [
    "plt.plot(fordgobike_18[fordgobike_18['user_type']=='Subscriber'].groupby('month').mean()['duration_sec'], color='red'\n",
    "         ,linestyle='dotted', label='Subscriber 18');\n",
    "plt.plot(fordgobike_18[fordgobike_18['user_type']=='Customer'].groupby('month').mean()['duration_sec'], color='blue'\n",
    "        ,linestyle='dotted', label='Customer 18');\n",
    "plt.plot(fordgobike_18.groupby('month').mean()['duration_sec'], color='black'\n",
    "        ,linestyle='dotted', label='All 18');\n",
    "\n",
    "plt.plot(fordgobike_19[fordgobike_19['user_type']=='Subscriber'].groupby('month').mean()['duration_sec'], color='red'\n",
    "        , label='Subscriber 19');\n",
    "plt.plot(fordgobike_19[fordgobike_19['user_type']=='Customer'].groupby('month').mean()['duration_sec'], color='blue'\n",
    "        , label='Customer 19');\n",
    "plt.plot(fordgobike_19.groupby('month').mean()['duration_sec'], color='black'\n",
    "        , label='All 19');\n",
    "\n",
    "plt.legend();\n",
    "plt.xlabel('Month');\n",
    "plt.ylabel('Average travel time (s)');\n",
    "plt.title('Average travel time for user types 2018 and  2019');"
   ]
  },
  {
   "cell_type": "markdown",
   "metadata": {
    "slideshow": {
     "slide_type": "slide"
    }
   },
   "source": [
    "When we take monthly average travel duration for each year, we can see the following:\n",
    "\n",
    "a, In both years, the customers average travel duration is much higher than the subscribers'.\n",
    "\n",
    "b, In both years, the customers average travel duration gradually dropping, which the data of subscribers is relatively stable.\n",
    "\n",
    "c, 2018 customer average travel time is obviously higher than that of 2019.\n",
    "\n",
    "I'll then take a look a time duration distribubtion by creating a 2d histgram."
   ]
  },
  {
   "cell_type": "code",
   "execution_count": 78,
   "metadata": {
    "slideshow": {
     "slide_type": "skip"
    }
   },
   "outputs": [
    {
     "name": "stderr",
     "output_type": "stream",
     "text": [
      "C:\\Users\\HUA\\Anaconda3\\lib\\site-packages\\ipykernel_launcher.py:5: SettingWithCopyWarning: \n",
      "A value is trying to be set on a copy of a slice from a DataFrame.\n",
      "Try using .loc[row_indexer,col_indexer] = value instead\n",
      "\n",
      "See the caveats in the documentation: http://pandas.pydata.org/pandas-docs/stable/user_guide/indexing.html#returning-a-view-versus-a-copy\n",
      "  \"\"\"\n"
     ]
    }
   ],
   "source": [
    "customer_table = fordgobike_18[fordgobike_18['user_type']=='Customer']\n",
    "subscriber_table = fordgobike_18[fordgobike_18['user_type']=='Customer']\n",
    "customer_table.index = range(0, customer_table.shape[0])\n",
    "subscriber_table.index = range(0, subscriber_table.shape[0])\n",
    "customer_table['month'] = [int(m) for m in customer_table['month']]"
   ]
  },
  {
   "cell_type": "code",
   "execution_count": 79,
   "metadata": {
    "slideshow": {
     "slide_type": "notes"
    }
   },
   "outputs": [
    {
     "data": {
      "image/png": "[encoded data removed]",
      "text/plain": [
       "<Figure size 432x288 with 2 Axes>"
      ]
     },
     "metadata": {
      "needs_background": "light"
     },
     "output_type": "display_data"
    }
   ],
   "source": [
    "bins_c = np.arange(0, 3600,300)\n",
    "bins_s = np.arange(0, subscriber_table['duration_sec'].max()+3600,3600)\n",
    "bins_y = np.arange(0, 13+1, 1)\n",
    "h2d = plt.hist2d(data=customer_table\n",
    "              , y='duration_sec'\n",
    "              , x='month'\n",
    "              , cmin=0.5\n",
    "              , bins=[bins_y, bins_c]\n",
    "              , cmap='viridis_r'\n",
    "              );\n",
    "plt.colorbar();\n",
    "plt.xticks([i+0.5 for i in range(0,13)],[str(l) for l in range(0,13)]);\n",
    "plt.yticks([600, 1200, 1800, 2400, 3000],[str(n) for n in [600, 1200, 1800, 2400, 3000]]);\n",
    "plt.xlim(1,13);\n",
    "plt.xlabel('Month');\n",
    "plt.ylabel('Travel duration');\n",
    "plt.title('Tavel Duration Distribution 2018');"
   ]
  },
  {
   "cell_type": "markdown",
   "metadata": {
    "slideshow": {
     "slide_type": "slide"
    }
   },
   "source": [
    "In the above plot, we could see travel records concentrating between May to October with travel time of 5 minutes to 10 minutes, for each square the count can be as large as 6000. This is a reasonable result considering share-bike projects are mostly designed for travel distance longer than 10-minute walk but shorter than 10-minute driving."
   ]
  },
  {
   "cell_type": "code",
   "execution_count": 80,
   "metadata": {
    "slideshow": {
     "slide_type": "notes"
    }
   },
   "outputs": [
    {
     "name": "stderr",
     "output_type": "stream",
     "text": [
      "C:\\Users\\HUA\\Anaconda3\\lib\\site-packages\\ipykernel_launcher.py:5: SettingWithCopyWarning: \n",
      "A value is trying to be set on a copy of a slice from a DataFrame.\n",
      "Try using .loc[row_indexer,col_indexer] = value instead\n",
      "\n",
      "See the caveats in the documentation: http://pandas.pydata.org/pandas-docs/stable/user_guide/indexing.html#returning-a-view-versus-a-copy\n",
      "  \"\"\"\n"
     ]
    }
   ],
   "source": [
    "customer_table = fordgobike_19[fordgobike_19['user_type']=='Customer']\n",
    "subscriber_table = fordgobike_19[fordgobike_19['user_type']=='Customer']\n",
    "customer_table.index = range(0, customer_table.shape[0])\n",
    "subscriber_table.index = range(0, subscriber_table.shape[0])\n",
    "customer_table['month'] = [int(m) for m in customer_table['month']]"
   ]
  },
  {
   "cell_type": "code",
   "execution_count": 81,
   "metadata": {
    "slideshow": {
     "slide_type": "slide"
    }
   },
   "outputs": [
    {
     "data": {
      "image/png": "[encoded data removed]",
      "text/plain": [
       "<Figure size 432x288 with 2 Axes>"
      ]
     },
     "metadata": {
      "needs_background": "light"
     },
     "output_type": "display_data"
    }
   ],
   "source": [
    "bins_c = np.arange(0, 3600,300)\n",
    "bins_s = np.arange(0, subscriber_table['duration_sec'].max()+3600,3600)\n",
    "bins_y = np.arange(0, 13+1, 1)\n",
    "fig, ax = plt.subplots()\n",
    "h2d = plt.hist2d(data=customer_table\n",
    "              , y='duration_sec'\n",
    "              , x='month'\n",
    "              , cmin=0.5\n",
    "              , bins=[bins_y, bins_c]\n",
    "              , cmap='viridis_r'\n",
    "              );\n",
    "plt.colorbar();\n",
    "plt.xticks([i+0.5 for i in range(0,13)],[str(l) for l in range(0,13)]);\n",
    "plt.yticks([600, 1200, 1800, 2400, 3000],[str(n) for n in [600, 1200, 1800, 2400, 3000]]);\n",
    "plt.xlim(1,13);\n",
    "plt.xlabel('Month');\n",
    "plt.ylabel('Travel duration');\n",
    "plt.title('Tavel Duration Distribution 2019');"
   ]
  },
  {
   "cell_type": "markdown",
   "metadata": {
    "slideshow": {
     "slide_type": "slide"
    }
   },
   "source": [
    "The 2019 plot shows a more evenly distribution without many dark squares except the 5-10 minute in December. A noteworthy point is the color bar ticks in 2019 plot is actually much higher than the color bar in 2018 plot. This is understandable due to the finding in the previous analysis that the 2019 has a larger number of records than 2018."
   ]
  },
  {
   "cell_type": "markdown",
   "metadata": {
    "slideshow": {
     "slide_type": "slide"
    }
   },
   "source": [
    "### Talk about some of the relationships you observed in this part of the investigation. Were there features that strengthened each other in terms of looking at your feature(s) of interest?\n",
    "\n",
    ">According to the plots, I did see the using volume concentrates in the rush hours both in the morning and afternoon in two consecutive years. However, the seasonal pattern of 2018 does not work for 2019. This observation could possibly resulted from growth of both the user growth and percentage of one specific user type, customer. Since the customers are not bonded by subscribing contract with the app, their behaviors are more random than the subscribers.\n",
    "\n",
    "### Were there any interesting or surprising interactions between features?\n",
    "\n",
    "> I am actually surpriesed the by the number of long-time travels. Riding bike longer than an hour is more like a sport than commute. If the market is large enough, the company should consider starting a project designed for these long-time riders, providing more comfortable bikes with higher charge.\n",
    "\n",
    ">Another surpring finding is the absence of seasonal flauctuation. I was assuming summer in California stopped some people from using the bikes, but not really."
   ]
  },
  {
   "cell_type": "markdown",
   "metadata": {
    "slideshow": {
     "slide_type": "slide"
    }
   },
   "source": [
    "> At the end of your report, make sure that you export the notebook as an\n",
    "html file from the `File > Download as... > HTML` menu. Make sure you keep\n",
    "track of where the exported file goes, so you can put it in the same folder\n",
    "as this notebook for project submission. Also, make sure you remove all of\n",
    "the quote-formatted guide notes like this one before you finish your report!"
   ]
  }
 ],
 "metadata": {
  "celltoolbar": "幻灯片",
  "kernelspec": {
   "display_name": "Python 3",
   "language": "python",
   "name": "python3"
  },
  "language_info": {
   "codemirror_mode": {
    "name": "ipython",
    "version": 3
   },
   "file_extension": ".py",
   "mimetype": "text/x-python",
   "name": "python",
   "nbconvert_exporter": "python",
   "pygments_lexer": "ipython3",
   "version": "3.7.4"
  }
 },
 "nbformat": 4,
 "nbformat_minor": 2
}
