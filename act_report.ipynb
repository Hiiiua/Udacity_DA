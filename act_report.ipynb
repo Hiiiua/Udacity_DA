{
 "cells": [
  {
   "cell_type": "markdown",
   "metadata": {},
   "source": [
    "# Act Report\n",
    "To analyze the data has been cleaned, following questions were proposed:\n",
    "<ul>\n",
    "<li><a href=\"#Peak tweet time\">1, Peak tweet time</a></li>\n",
    "    what is the peak time for sending these tweets?\n",
    "<li><a href=\"#Most popular dog name\">2, Most popular dog name</a></li>\n",
    "    What is the most popular dog name according to this dataset?\n",
    "<li><a href=\"#Independence of retweet and favorite counts\">3, Independence of retweet and favorite counts</a></li>\n",
    "    Are *retweet_count* and *favorite_count* independent of each other?\n",
    "<li><a href=\"#rating mean value\">4, rating mean value</a></li>\n",
    "    What is the mean value for rating_numerator?\n",
    "<li><a href=\"#proportion of wrong prediction\">5, proportion of wrong prediction</a></li>\n",
    "    How many wrongly predicted in **image_prediction** table?"
   ]
  },
  {
   "cell_type": "markdown",
   "metadata": {},
   "source": [
    "<a id='intro'></a>\n",
    "## Peak tweet time"
   ]
  },
  {
   "cell_type": "markdown",
   "metadata": {},
   "source": [
    "I acquire hour-time of tweeting in timestamp using `.split()` followed by storing number of tweets for each time slot in a dictionary using `.value_counts()`. Then I plot a line plot by sorting dictionary key values."
   ]
  },
  {
   "cell_type": "markdown",
   "metadata": {},
   "source": [
    "According to the line chart, the peak time of tweeting is between 12a.m. and 1 a.m. followed by gradual drop, reaching minimum around 6 a.m. This minimum value stables for 8 hours and sharply increases reaching the second peak in three hours."
   ]
  },
  {
   "cell_type": "markdown",
   "metadata": {},
   "source": [
    "<a id='Most popular dog name'></a>\n",
    "## Most popular dog name"
   ]
  },
  {
   "cell_type": "markdown",
   "metadata": {},
   "source": [
    "According to the available dataset, the top 5 dog names are Charlie, Cooper, Oliver, Lucy and Tucker."
   ]
  },
  {
   "cell_type": "markdown",
   "metadata": {},
   "source": [
    "<a id='Independence of retweet and favorite counts'></a>\n",
    "## Independence of retweet and favorite counts"
   ]
  },
  {
   "cell_type": "markdown",
   "metadata": {},
   "source": [
    "It is intuitive to think retweet count and favorite count are positively related, this can be quantitively verified by performing $chi^2$ test using `chi2_contigency`. The null hypothesis for this test is retweet and favorite counts are independent of each other. After conducting the test, this function returns a p-value of 0.0, which provides sufficient evidence for rejecting the null hypothesis. Therefore, we confirm the relationship between retweet counts and favorite counts."
   ]
  },
  {
   "cell_type": "markdown",
   "metadata": {},
   "source": [
    "<a id='rating mean value'></a>\n",
    "## rating mean value"
   ]
  },
  {
   "cell_type": "markdown",
   "metadata": {},
   "source": [
    "By applying `.mean()` to the *rating_numerator* column, the mean value for rating numerator is 10.79, which is above full mark of 10."
   ]
  },
  {
   "cell_type": "markdown",
   "metadata": {},
   "source": [
    "<a id='proportion of wrong prediction'></a>\n",
    "## proportion of wrong prediction"
   ]
  },
  {
   "cell_type": "markdown",
   "metadata": {},
   "source": [
    "I define wrong prediction as the values in `p1` is not even a breed of dogs. So I count `False` values in `p1_dog`, and taking this value divided by total number of values to calculate proportion of wrong prediction. There could be wrong predictions even if `p1` value is a dog breed, so we can say at least the proportion of wrong prediction is 26%."
   ]
  }
 ],
 "metadata": {
  "kernelspec": {
   "display_name": "Python 3",
   "language": "python",
   "name": "python3"
  },
  "language_info": {
   "codemirror_mode": {
    "name": "ipython",
    "version": 3
   },
   "file_extension": ".py",
   "mimetype": "text/x-python",
   "name": "python",
   "nbconvert_exporter": "python",
   "pygments_lexer": "ipython3",
   "version": "3.7.4"
  }
 },
 "nbformat": 4,
 "nbformat_minor": 2
}
