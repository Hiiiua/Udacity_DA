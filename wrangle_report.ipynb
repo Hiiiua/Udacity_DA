{
 "cells": [
  {
   "cell_type": "markdown",
   "metadata": {},
   "source": [
    "# Project: Wrangle and Analyze Data\n",
    "\n",
    "After taking a brief look at these three dataframes, some quality and tidiness issues were spotted and then cleaned. After applying `.describe()`, `.duplicated()`, `.info()` and `.head()` functions, some tidiness and quality issues are spotted and need to be corrected. Tidiness should be done first to save some future quality cleaning.\n",
    "\n",
    "<ul>\n",
    "<li><a href=\"#Tidiness\">Tidiness</a></li>\n",
    "<li><a href=\"#quality\">Quality</a></li>"
   ]
  },
  {
   "cell_type": "markdown",
   "metadata": {},
   "source": [
    "<a id='intro'></a>\n",
    "## Tidiness"
   ]
  },
  {
   "cell_type": "markdown",
   "metadata": {},
   "source": [
    "dolumn *id* in **retweet_fav_df** is actually *tweet_id* in other two tables. to keep consistency, dolumn *id* in **retweet_fav_df** need to be corrected. "
   ]
  },
  {
   "cell_type": "markdown",
   "metadata": {},
   "source": [
    "Considering retweet and favorite counts belongs to twitter archive, **retweet_fav_df** table could be merged with **twitter_archive_df** into one **archive_combo** table."
   ]
  },
  {
   "cell_type": "markdown",
   "metadata": {},
   "source": [
    "<a id='intro'></a>\n",
    "## Quality"
   ]
  },
  {
   "cell_type": "markdown",
   "metadata": {},
   "source": [
    "After column name changing and merging, we can move on to quality cleaning. It can be seen two columns regarding rating have abnormal values: In the *rating_denominator*, the value varies from 10 to 170, which makes the rating standard vague. I set all denominators to full mark of 10. *rating_numberator* has similar outlier problem, the maximum value can be as large as 1776, which is way larger than full mark of 10, so I set values larger than 20 to 20 denoting a high rating."
   ]
  },
  {
   "cell_type": "markdown",
   "metadata": {},
   "source": [
    "Besides rating columns, *timestamp* values are all end with ‘+0000’ which is unnecessary, so it has to be removed by using `.split('+')` function."
   ]
  },
  {
   "cell_type": "markdown",
   "metadata": {},
   "source": [
    "Dog names in *name* column are not uniformly started with upper case or lower case. I capitalized the names according to name recording convention. After capitalization, I found some obviously invalid dog names such as ‘A’, ‘None’ values. These should be interpreted as missing values, so I identified them followed by changing them into `np.nan`. Similar capitalization process is applied to breeds in *p1*, *p2*, *p3* in **image_prediction_df**.\n",
    "*tweet_id* are integer type in both tables, so I changed the type into object.\n"
   ]
  },
  {
   "cell_type": "markdown",
   "metadata": {},
   "source": [
    "Four columns, ‘doggo’, ‘floofer’, ‘pupper’ and ‘puppo’, can be merged into a *dog_stage* column because they are one of the stages."
   ]
  }
 ],
 "metadata": {
  "kernelspec": {
   "display_name": "Python 3",
   "language": "python",
   "name": "python3"
  },
  "language_info": {
   "codemirror_mode": {
    "name": "ipython",
    "version": 3
   },
   "file_extension": ".py",
   "mimetype": "text/x-python",
   "name": "python",
   "nbconvert_exporter": "python",
   "pygments_lexer": "ipython3",
   "version": "3.7.4"
  }
 },
 "nbformat": 4,
 "nbformat_minor": 2
}
